{
  "nbformat": 4,
  "nbformat_minor": 0,
  "metadata": {
    "colab": {
      "name": "Aprofundamento_T1.ipynb",
      "provenance": [],
      "collapsed_sections": [],
      "authorship_tag": "ABX9TyOMjLDm02fUvgJSwXO0JoF1",
      "include_colab_link": true
    },
    "kernelspec": {
      "name": "python3",
      "display_name": "Python 3"
    },
    "language_info": {
      "name": "python"
    }
  },
  "cells": [
    {
      "cell_type": "markdown",
      "metadata": {
        "id": "view-in-github",
        "colab_type": "text"
      },
      "source": [
        "<a href=\"https://colab.research.google.com/github/mahmayer/mackenzie/blob/main/Aprofundamento_T1.ipynb\" target=\"_parent\"><img src=\"https://colab.research.google.com/assets/colab-badge.svg\" alt=\"Open In Colab\"/></a>"
      ]
    },
    {
      "cell_type": "markdown",
      "metadata": {
        "id": "yg-nbTS4I-ci"
      },
      "source": [
        "###PARADIGMAS DE LINGUAGEM DE PROGRAMAÇÃO EM CIÊNCIA DE DADOS\n",
        "##Tarefa de Aprofundamento 1 - Validação da Lei de Zipf \n",
        "\n",
        "\n",
        "O texto escolhido, para a análise de frequência de termos, foi sobre ciência de dados, por ser o tema dessa especialização e a futura área de trabalho. \n",
        "Saber a frequência de palavras que mais aparecem em textos sobre o assunto, pode mostrar os principais pontos que devem ser considerados e destacados para se aprofundar e aprender sobre o tema, com exceção dos artigos e preposições. "
      ]
    },
    {
      "cell_type": "code",
      "metadata": {
        "id": "HrTZuCYEqIXW"
      },
      "source": [
        "texto = ('''FREITAS, Caio Guimarães de. Ciência de Dados: Big Data e Gestão dos Dados. Revista Científica Multidisciplinar Núcleo do Conhecimento. Ano 05, Ed. 10, Vol. 08, pp. 134-140. Outubro de 2020. ISSN: 2448-0959, Link de acesso: https://www.nucleodoconhecimento.com.br/tecnologia/gestao-dos-dados\n",
        "\n",
        "A ciência de dados lida com a criação de insights ou produtos de dados a partir de um determinado conjunto de arquivos de dados. Os dados manipulados costumam ser conhecidos como \"big data\" embora sejam frequentemente aplicados a fluxos de dados convencionais, como os normalmente encontrados nos bancos de dados, nas planilhas e nos documentos de texto de uma empresa. O presente artigo tem o objetivo geral de apresentar o aspecto da gestão dos dados na ciência de dados. Analisando os aspectos relevantes relativos à obtenção de dados observados na ciência de dados para obter informações úteis, bem como os cuidados que devem ser tomados quando da obtenção desses dados. Dentre os autores pesquisados para a constituição conceitual deste trabalho, destacaram-se Kampakis (2020), Godsey (2017), Skiena (2017), Corea (2019) e Chen (2018). A metodologia utilizada foi a pesquisa descritiva, tendo como coleta de dados o levantamento bibliográfico. As conclusões mais relevantes são que é fundamental ter em mente que o julgamento humano torna-se essencial para avaliar fatores como adequação dos dados; natureza dos dados; exigência de tempo e custo de aquisição de modo que se este for negligenciado pode trazer prejuízos as organizações tornando inúteis os investimentos feitos aquisições de dados.\n",
        "\n",
        "Palavras-chave: Ciência de dados, Big data, dados.\n",
        "\n",
        "INTRODUÇÃO\n",
        "O interesse das empresas por grandes quantidades de dados tem se intensificado nos últimos anos. Os dados vêm sendo coletados a taxas cada vez maiores e, em muitos casos, são coletados mesmo sem uma finalidade específica. As lojas on-line começaram a armazenar não apenas informações do que é comprado, mas também todos os itens visualizados e todos os links clicados. Sejam públicos ou privados, estruturados ou não estruturados, conjuntos de dados estão se acumulando em todos os lugares.\n",
        "\n",
        "No passado, os dados eram coletados intencionadamente, de modo que representavam alguma medida intencional do mundo real. Mais recentemente, porém, a Internet, dispositivos eletrônicos onipresentes e um medo latente de perder valor oculto nos dados levaram as organizações a coletar o máximo de dados possível, geralmente com a premissa de que esses dados serão úteis posteriormente. Pela primeira vez na história vários setores estão primeiro coletando os dados e depois se questionando o que pode ser feito com esses dados.\n",
        "\n",
        "As redes sociais costumam armazenar tudo o que os seus usuários fazem nelas. O objetivo dessa coleta nem sempre é vender os dados embora isso também ocorra. Boa parte dos sites e aplicativos usam seus dados para melhorar a experiência dos usuários. Com isso os proprietários desses sites e aplicativos ficam divididos entre o valor dos dados como algo que pode ser vendido e o valor dos dados quando mantidos e usados ​​internamente.\n",
        "\n",
        "Muitos editores têm medo de vender seus dados porque isso abre a possibilidade de que outra pessoa descubra algo lucrativo para fazer com eles. Muitos deles mantêm seus dados para si mesmos, guardando-os para o futuro, quando supostamente terão tempo suficiente para extrair todo o valor deles.\n",
        "\n",
        "O presente artigo tem o objetivo geral de apresentar o aspecto da gestão dos dados na ciência de dados. Delimitando-se a analisar os aspectos relevantes relativos à obtenção de dados observados na ciência de dados para obter informações úteis, bem como os cuidados que devem ser tomados quando da gestão desses dados.\n",
        "\n",
        "Este trabalho justifica-se pela importância de se conhecer os métodos utilizados pela ciência de dados para obter valor a partir dos dados.\n",
        "\n",
        "A metodologia deste trabalho é a pesquisa descritiva, tendo como coleta de dados o levantamento bibliográfico.\n",
        "\n",
        "A CIÊNCIA DE DADOS\n",
        "A ciência de dados é única no espaço da tecnologia de duas maneiras. Primeiro, em comparação com o desenvolvimento de software, por exemplo, a ciência de dados é intangível. Não se pode ver um front end chamativo, apenas os resultados de um modelo. Em segundo lugar, é a ciência, o que significa que, ao contrário da engenharia, é difícil definir com antecedência um plano perfeitamente definido. A incerteza é parte integrante da ciência de dados, e isso pode dificultar estimativas e decisões. Esses dois fatores tornam o entendimento da ciência de dados mais desafiador (KAMPAKIS, 2020).\n",
        "\n",
        "Conforme Godsey (2017), as origens da ciência de dados como um campo de estudo estão em algum lugar entre a estatística e o desenvolvimento de software.\n",
        "\n",
        "A ciência de dados possui três campos principais que incluem, inteligência artificial, aprendizado de máquina e estatística. Deste modo a estatística é uma ferramenta essencial no arsenal de qualquer cientista de dados, porque ajuda a desenvolver e estudar métodos para coletar, analisar, interpretar e apresentar dados. As inúmeras metodologias utilizadas permitem aos cientistas de dados realizações como: projetar experimentos e interpretar resultados para melhorar a tomada de decisão; construir modelos de previsão; transformar dados em insights; fazer estimativas inteligentes etc. (KAMPAKIS, 2020).\n",
        "\n",
        "De acordo com Skiena (2017), a ciência de dados está na intersecção de ciência da computação, estatística e domínios de aplicação subjacentes. Da ciência da computação vem o aprendizado de máquina e as tecnologias de computação de alto desempenho para lidar com a escala. A partir das estatísticas, vem uma longa tradição de análise exploratória de dados, teste de significância e visualização. Dos domínios de aplicação nos negócios e nas ciências, surgem desafios dignos de batalha e padrões de avaliação para avaliar quando eles foram conquistados adequadamente.\n",
        "\n",
        "Além das estatísticas e do software, muitas pessoas dizem que a ciência de dados tem um terceiro componente principal, que é algo parecido com a experiência no assunto ou no domínio. Embora seja importante entender um problema antes de tentar resolvê-lo, um bom cientista de dados pode alternar domínios e começar a contribuir um pouco antes (GODSEY, 2017).\n",
        "\n",
        "Conforme Skiena (2017) existem três razões para essa súbita explosão da ciência de dados:\n",
        "\n",
        "O avanço tecnológico torna possível capturar e armazenar grandes quantidades dados de mídias sociais, registros e de sensores. Após de reunir todos esses dados, pode-se perguntar o que é possível ser feito com eles.\n",
        "Os avanços da computação tornam possível analisar os dados de maneiras novas e em escalas cada vez maiores. As arquiteturas de computação em nuvem proporcionam vasto poder até mesmo aos usuários comuns quando necessário. Novas abordagens de aprendizado de máquina têm levado a incríveis avanços em problemas de longa data como visão computacional e processamento de linguagem natural.\n",
        "Empresas de tecnologia de destaque como Google e Facebook demonstraram o poder da análise de dados moderna. Histórias de sucesso aplicando dados em áreas tão diversas como gestão esportiva e previsão de eleições serviram como modelos para levar a ciência de dados a um grande público.\n",
        "BIG DATA\n",
        "Existem várias maneiras de definir o que é big data, e é provavelmente por isso que ainda é um conceito difícil de entender. Alguns autores descrevem big data como um conjunto de dados acima de um certo limite, por exemplo, acima de um terabyte. Trabalhos de maior renome identificaram big data como dados que exibem as características de variedade, velocidade e volume (COREA, 2019).\n",
        "\n",
        "Para Kampakis (2020), big data é um chavão, pois simplesmente se refere a conjuntos de dados maciços que são tão grandes e complicados que o software tradicional de processamento de dados simplesmente não pode lidar com eles. Além disso, está relacionado a bancos de dados NoSQL, computação em nuvem e assim por diante.\n",
        "\n",
        "Observa-se, portanto, que big data significa coisas diferentes para pessoas diferentes. Conforme Chen (2018), independente das fontes de dados digitais, como mídia social, bancos de dados, áudio e vídeo, o big data expõe as características de alto volume, alta velocidade de entrada e saída de dados e alta variedade de dados tipos e fontes.\n",
        "\n",
        "Todos parecem estar corretos de alguma maneira. Já no que diz respeito à análise de big data existe uma definição que parece capturar melhor esse fenômeno: a análise de big data é uma abordagem inovadora que consiste em diferentes tecnologias e processos para extrair informações valiosas de dados de baixo valor que não se encaixam, por qualquer motivo, nos sistemas de banco de dados convencionais (COREA, 2019).\n",
        "\n",
        "De acordo com Chen (2018), esse novo tipo de dados favorece as perspectivas para o avanço nas pesquisas em vários campos especialmente nas ciências sociais e humanas das seguintes maneiras:\n",
        "\n",
        "Novas metodologias de pesquisa podem ser estabelecidas com a ajuda de ferramentas avançadas de coleta de big data, como raspagem da Web e técnicas analíticas inovadoras, como aprendizado de máquina;\n",
        "Novos tipos de dados podem revelar novos padrões e insights sobre a sociedade humana, política e economia;\n",
        "Novos tipos de dados podem levar a novos tipos de questões de pesquisa que estão além das perspectivas das teorias estabelecidas.\n",
        "GESTÃO DOS DADOS\n",
        "O gerenciamento de dados inclui todas as disciplinas envolvidas no trabalho com os dados e o trata como um recurso valioso. Uma definição mais formal é fornecida pelo DAMA International: Gerenciamento de recursos de dados é o desenvolvimento e a execução de arquiteturas, políticas, práticas e procedimentos que gerenciam adequadamente as necessidades do ciclo de vida de dados de uma empresa. (KAMPAKIS, 2020).\n",
        "\n",
        "Inicialmente, os dados precisam ser contextualizados e seu significado pode mudar dependendo do contexto. Os dados podem ser percebidos como objetivos ou factuais – quando capturam fatos de fenômenos naturais sendo univocamente iguais independentemente de quem os olha – ou subjetivos – se refletem construções puramente humanas ou sociais, que ganham seu direito à representatividade a partir do consenso geral, sendo, portanto, mais abstrato. A interpretação dos dados é a essência de seu valor para os negócios e ambos os tipos de dados podem fornecer insights diferentes para diferentes observadores devido a habilidades de interpretação (COREA, 2019).\n",
        "\n",
        "Outro ponto a se destacar se refere a qualidade dos dados. Boa parte das vezes, a qualidade dos dados se torna uma questão importante. Outras vezes, a principal questão pode ser o volume de dados, velocidade de processamento, parâmetros de um algoritmo, interpretabilidade dos resultados ou qualquer um dos muitos outros aspectos do problema. Ignorar qualquer um deles no momento em que se torna importante pode comprometer ou invalidar completamente os resultados subsequentes (GODSEY, 2017).\n",
        "\n",
        "Também não devemos esquecer que uma ampla gama de preconceitos comportamentais pode invalidar a objetividade da análise afeta as pessoas. Os mais comuns entre cientistas e gerentes são: apofenia (padrões distintos onde não há), falácia narrativa (a necessidade de padrões de séries de fatos desconectados), viés de confirmação (a tendência de usar apenas informações que confirmam hipóteses anteriores) – e sua corolário segundo o qual a busca por evidências acabará eventualmente com a descoberta de evidências – e o viés de seleção (a propensão a usar sempre algum tipo de dado, possivelmente os mais conhecidos). (COREA, 2019).\n",
        "\n",
        "Portanto, para falar em gerenciamento de dados, precisamos entender de onde vêm os dados. Entendendo de onde vêm os dados geramos muitos dados. Praticamente tudo o que se faz gera alguma forma de dados. As empresas, por exemplo, coletam dados de fontes internas, como transações, dados de log e e-mails, mas também de fontes externas, como mídias sociais, fontes de áudio e vídeos (KAMPAKIS, 2020).\n",
        "\n",
        "No entanto, os dados por si só não fazem sentido, se não forem feitas as perguntas corretas. É aqui que entra o julgamento humano: fazer a pergunta certa e interpretar os resultados ainda são competência do cérebro humano, mesmo que uma questão quantitativa precisa possa ser respondida com mais eficiência por qualquer máquina (COREA, 2019).\n",
        "\n",
        "Existem dois tipos principais de coleta de dados: observacional e experimental. A coleta de dados observacionais significa que os dados são coletados passivamente, sem a tentativa de controlar as variáveis ​​envolvidas. Por exemplo, coletar feedback do cliente para um livro e um varejista analisando o comportamento do cliente são métodos de coleta observacional, pois não há tentativa de controlar nenhuma variável. A coleta experimental de dados envolve o design e a realização de um experimento, em que determinadas variáveis ​​são controladas enquanto você estuda outras variáveis. Isso é mais comum nos círculos acadêmicos, mas também em contextos clínicos.  Um exemplo perfeito disso é quando uma empresa farmacêutica testa um novo medicamento. Eles montam experimentos onde controlam certas variáveis, como as pessoas envolvidas no estudo, e testam outras variáveis, como a eficácia do medicamento e os possíveis efeitos colaterais (KAMPAKIS, 2020).\n",
        "\n",
        "O upload de dados pode se revelar uma parte crítica do trabalho de um cientista de dados especialmente quando confrontado com novos desafios. Os dados podem chegar de várias fontes: bancos de dados, arquivos CSV ou Excel, HTML bruto, imagens, gravações de som, APIs fornecendo arquivos JavaScript Object Notation (JSON) e assim por diante (BOSCHETTI, 2018).\n",
        "\n",
        "Nesse contexto, quando se trata de aquisição de dados, há certas considerações que devem ser feitas. Cada uma delas é essencial e podem chegar ao ponto de afetar todo um modelo de negócios. Estas são: Adequação dos dados; Natureza dos dados; Exigência de tempo; Custo de aquisição (KAMPAKIS, 2020).\n",
        "\n",
        "Após o upload bem-sucedido dos dados, chega a fase de transferência de dados. Embora estejam disponíveis na memória, inevitavelmente, os dados certamente estarão em uma forma inadequada para qualquer análise e experimentação. Os dados no mundo real são complexos, confusos e, às vezes, errados ou ausentes (BOSCHETTI, 2018).\n",
        "\n",
        "Deve-se ter em mente, também que mais dados podem implicar custos mais altos e não necessariamente maior precisão. Os custos podem incluir: custos de manutenção mais altos, tanto para armazenamento físico quanto para retenção de modelo; maiores dificuldades em interpretar os resultados; coleta de dados mais onerosa e custos de oportunidade de tempo. Sem dúvida, os dados usados ​​não precisam ser ortodoxos ou usados ​​de maneira padrão e eles podem desafiar a sabedoria convencional, mas precisam ser comprovados e validados. Um conjunto de dados é um requisito básico para qualquer análise estatística e de aprendizado de máquina (BOSCHETTI, 2018).\n",
        "\n",
        "Por fim, as estratégias de dados inteligentes sempre começam com a análise de conjuntos de dados internos, antes de integrá-los a fontes públicas ou externas. Não é vantajoso armazenar e processar dados apenas por causa dos dados, visto que, com a quantidade de dados gerada diariamente, o ruído aumenta mais rapidamente que o sinal. A regra 80/20 de Pareto se aplica: os 80% do fenômeno provavelmente poderiam ser explicados pelos 20% dos dados de propriedade (COREA, 2019).\n",
        "\n",
        "CONCLUSÃO\n",
        "Este estudo tem o objetivo geral de apresentar o aspecto obtenção de dados na ciência de dados. Ao realizar a análise dos aspectos relevantes para a gestão de dados, pode-se observar que existem diversos fatores que podem influenciar a análise para obtenção de insights a partir destes dados.\n",
        "\n",
        "Ao analisar os fatores que devem ser considerados quando da gestão dos dados em ciência de dados, observa-se também, que mais dados podem implicar custos mais altos e não necessariamente maior precisão dos modelos gerados a partir destes dados. Além disso, muitas variáveis podem vir a aumentar a complexidade de um modelo sem necessariamente aumentar a precisão ou a eficiência deles. Vale lembrar ainda, que a qualidade dos dados é de fundamental importância, visto que dados de baixa qualidade podem invalidar os resultados obtidos.\n",
        "\n",
        "Portanto é importante ter em mente que fazer a pergunta certa e interpretar os resultados ainda são competência do cérebro humano, de modo que se este for negligenciado, pode trazer prejuízos às organizações tornando inúteis os investimentos feitos em tecnologia para obter insights a partir de grandes quantidades de dados. Além disso pode-se observar que o julgamento humano torna-se essencial para avaliar fatores como adequação dos dados; natureza dos dados; exigência de tempo e custo de aquisição. Os avanços nas técnicas armazenamento e processamento de big data são constantes, de modo que os aspectos considerados importantes podem ser modificados com o tempo. Com isso, novos trabalhos podem ser realizados no sentido de apresentar os avanços e inovações na gestão de dados no contexto da ciência de dados.\n",
        "\n",
        "REFERÊNCIAS\n",
        "COREA, Francesco. An Introduction to Data: Everything You Need to Know About AI, Big Data and Data Science. Springer, 2019.\n",
        "\n",
        "CHEN, Shu-Heng. Big Data in Computational Social Science and Humanities. Springer, 2018.\n",
        "\n",
        "GODSEY, Brian. Think Like a Data Scientist: Tackle the Data Science Process Step-by-Step, Shelter Island, Manning, 2017.\n",
        "\n",
        "KAMPAKIS, Stylianos. The Decision Maker’s Handbook for Data Science: a Guide for Non Tecnical Executives, Managers and Founders. London, Apress, 2020.\n",
        "\n",
        "SKIENA, Steven S. The Data Science Design Manual, Springer, 2017.\n",
        "\n",
        "''')"
      ],
      "execution_count": 30,
      "outputs": []
    },
    {
      "cell_type": "code",
      "metadata": {
        "colab": {
          "base_uri": "https://localhost:8080/"
        },
        "id": "FVAhb_quDaF_",
        "outputId": "8b68f49d-3c29-44d7-8134-f919caf726ff"
      },
      "source": [
        "len(texto.split())\n"
      ],
      "execution_count": 35,
      "outputs": [
        {
          "output_type": "execute_result",
          "data": {
            "text/plain": [
              "2721"
            ]
          },
          "metadata": {},
          "execution_count": 35
        }
      ]
    },
    {
      "cell_type": "code",
      "metadata": {
        "colab": {
          "base_uri": "https://localhost:8080/"
        },
        "id": "0z-pgAsPCV2U",
        "outputId": "4a7d1e23-4b58-452e-e85e-c75a96e108d1"
      },
      "source": [
        "from collections import Counter\n",
        "import string\n",
        "\n",
        "texto_min = texto.lower() #deixa o texto minúsculo\n",
        "texto_ajust = texto_min.translate(str.maketrans('', '', string.punctuation)) #retira a pontuação\n",
        "frequencia = Counter(texto_ajust.split()) #dividi cada string em uma lista e conta\n",
        "\n",
        "print(frequencia)"
      ],
      "execution_count": 33,
      "outputs": [
        {
          "output_type": "stream",
          "text": [
            "Counter({'de': 212, 'dados': 138, 'a': 85, 'e': 76, 'que': 53, 'os': 50, 'o': 48, 'para': 32, 'um': 30, 'dos': 28, 'é': 28, 'como': 26, 'ciência': 25, 'em': 24, 'data': 23, 'com': 22, 'as': 20, 'da': 19, 'se': 19, 'ser': 18, 'big': 16, 'mais': 16, 'podem': 16, 'do': 15, 'uma': 15, 'ou': 14, 'por': 14, 'pode': 13, 'não': 13, 'no': 13, 'quando': 11, 'são': 11, '2020': 10, 'análise': 10, 'gestão': 9, 'na': 9, 'kampakis': 9, '2017': 9, 'coleta': 9, 'corea': 8, '2019': 8, 'das': 8, 'resultados': 8, 'partir': 7, 'nos': 7, '2018': 7, 'também': 7, 'valor': 7, 'isso': 7, 'qualquer': 7, 'fontes': 7, 'insights': 6, 'tempo': 6, 'eles': 6, 'máquina': 6, 'computação': 6, 'tipos': 6, 'novos': 6, 'variáveis': 6, 'nas': 5, 'tem': 5, 'apresentar': 5, 'aspectos': 5, 'obtenção': 5, 'informações': 5, 'trabalho': 5, 'godsey': 5, 'humano': 5, 'fatores': 5, 'modo': 5, 'muitos': 5, 'todos': 5, 'sociais': 5, 'exemplo': 5, 'estatística': 5, 'aprendizado': 5, 'interpretar': 5, 'além': 5, 'diferentes': 5, '–': 5, 'custos': 5, 'science': 5, 'embora': 4, 'bancos': 4, 'objetivo': 4, 'geral': 4, 'relevantes': 4, 'à': 4, 'obter': 4, 'devem': 4, 'skiena': 4, 'chen': 4, 'pesquisa': 4, 'essencial': 4, 'aquisição': 4, 'este': 4, 'for': 4, 'grandes': 4, 'coletados': 4, 'sem': 4, 'armazenar': 4, 'apenas': 4, 'mas': 4, 'estão': 4, 'possível': 4, 'esses': 4, 'seus': 4, 'parte': 4, 'fazer': 4, 'deles': 4, 'analisar': 4, 'maneiras': 4, 'software': 4, 'modelo': 4, 'ao': 4, 'padrões': 4, 'pessoas': 4, 'importante': 4, 'existem': 4, 'avanços': 4, 'processamento': 4, 'ainda': 4, 'disso': 4, 'portanto': 4, 'qualidade': 4, 'onde': 4, 'conjunto': 3, 'arquivos': 3, 'empresa': 3, 'aspecto': 3, 'úteis': 3, 'desses': 3, 'deste': 3, 'ter': 3, 'mente': 3, 'julgamento': 3, 'avaliar': 3, 'adequação': 3, 'natureza': 3, 'exigência': 3, 'custo': 3, 'organizações': 3, 'empresas': 3, 'quantidades': 3, 'vêm': 3, 'sendo': 3, 'cada': 3, 'vez': 3, 'maiores': 3, 'mesmo': 3, 'conjuntos': 3, 'alguma': 3, 'coletar': 3, 'pela': 3, 'usuários': 3, 'sempre': 3, 'entre': 3, 'algo': 3, 'usados': 3, 'métodos': 3, 'tecnologia': 3, 'desenvolvimento': 3, 'significa': 3, 'conforme': 3, 'estudo': 3, 'cientista': 3, 'modelos': 3, 'domínios': 3, 'negócios': 3, 'entender': 3, 'antes': 3, 'torna': 3, 'podese': 3, 'novas': 3, 'maior': 3, 'velocidade': 3, 'volume': 3, 'gerenciamento': 3, 'precisam': 3, 'seu': 3, 'contexto': 3, 'vezes': 3, 'questão': 3, 'outras': 3, 'invalidar': 3, 'há': 3, 'boschetti': 3, 'altos': 3, 'necessariamente': 3, 'precisão': 3, 'and': 3, 'springer': 3, 'the': 3, 'costumam': 2, 'conhecidos': 2, 'sejam': 2, 'convencionais': 2, 'presente': 2, 'artigo': 2, 'analisando': 2, 'relativos': 2, 'observados': 2, 'bem': 2, 'cuidados': 2, 'tomados': 2, 'autores': 2, 'metodologia': 2, 'descritiva': 2, 'tendo': 2, 'levantamento': 2, 'bibliográfico': 2, 'fundamental': 2, 'tornase': 2, 'negligenciado': 2, 'trazer': 2, 'prejuízos': 2, 'tornando': 2, 'inúteis': 2, 'investimentos': 2, 'feitos': 2, 'estruturados': 2, 'mundo': 2, 'real': 2, 'medo': 2, 'vários': 2, 'primeiro': 2, 'feito': 2, 'tudo': 2, 'fazem': 2, 'vender': 2, 'boa': 2, 'sites': 2, 'aplicativos': 2, 'melhorar': 2, 'experiência': 2, 'têm': 2, 'porque': 2, 'si': 2, 'extrair': 2, 'todo': 2, 'importância': 2, 'segundo': 2, 'lugar': 2, 'difícil': 2, 'definir': 2, 'estimativas': 2, 'dois': 2, 'tornam': 2, 'algum': 2, 'três': 2, 'campos': 2, 'principais': 2, 'ajuda': 2, 'metodologias': 2, 'aos': 2, 'cientistas': 2, 'experimentos': 2, 'previsão': 2, 'inteligentes': 2, 'acordo': 2, 'está': 2, 'aplicação': 2, 'vem': 2, 'tecnologias': 2, 'alto': 2, 'lidar': 2, 'estatísticas': 2, 'longa': 2, 'ciências': 2, 'desafios': 2, 'adequadamente': 2, 'muitas': 2, 'principal': 2, 'problema': 2, 'avanço': 2, 'capturar': 2, 'mídias': 2, 'após': 2, 'arquiteturas': 2, 'nuvem': 2, 'poder': 2, 'comuns': 2, 'tão': 2, 'levar': 2, 'várias': 2, 'provavelmente': 2, 'acima': 2, 'trabalhos': 2, 'características': 2, 'variedade': 2, 'pois': 2, 'simplesmente': 2, 'refere': 2, 'assim': 2, 'diante': 2, 'observase': 2, 'social': 2, 'áudio': 2, 'alta': 2, 'maneira': 2, 'definição': 2, 'esse': 2, 'fenômeno': 2, 'novo': 2, 'tipo': 2, 'perspectivas': 2, 'especialmente': 2, 'humanas': 2, 'estabelecidas': 2, 'técnicas': 2, 'revelar': 2, 'envolvidas': 2, 'trata': 2, 'fatos': 2, 'interpretação': 2, 'ponto': 2, 'viés': 2, 'usar': 2, 'evidências': 2, 'forma': 2, 'externas': 2, 'sentido': 2, 'feitas': 2, 'pergunta': 2, 'certa': 2, 'competência': 2, 'cérebro': 2, 'eficiência': 2, 'observacional': 2, 'experimental': 2, 'tentativa': 2, 'controlar': 2, 'cliente': 2, 'design': 2, 'medicamento': 2, 'certas': 2, 'upload': 2, 'chegar': 2, 'às': 2, 'implicar': 2, 'armazenamento': 2, 'visto': 2, 'observar': 2, 'destes': 2, 'considerados': 2, 'aumentar': 2, 'to': 2, 'freitas': 1, 'caio': 1, 'guimarães': 1, 'revista': 1, 'científica': 1, 'multidisciplinar': 1, 'núcleo': 1, 'conhecimento': 1, 'ano': 1, '05': 1, 'ed': 1, '10': 1, 'vol': 1, '08': 1, 'pp': 1, '134140': 1, 'outubro': 1, 'issn': 1, '24480959': 1, 'link': 1, 'acesso': 1, 'httpswwwnucleodoconhecimentocombrtecnologiagestaodosdados': 1, 'lida': 1, 'criação': 1, 'produtos': 1, 'determinado': 1, 'manipulados': 1, 'frequentemente': 1, 'aplicados': 1, 'fluxos': 1, 'normalmente': 1, 'encontrados': 1, 'planilhas': 1, 'documentos': 1, 'texto': 1, 'dentre': 1, 'pesquisados': 1, 'constituição': 1, 'conceitual': 1, 'destacaramse': 1, 'utilizada': 1, 'foi': 1, 'conclusões': 1, 'aquisições': 1, 'palavraschave': 1, 'introdução': 1, 'interesse': 1, 'intensificado': 1, 'últimos': 1, 'anos': 1, 'taxas': 1, 'casos': 1, 'finalidade': 1, 'específica': 1, 'lojas': 1, 'online': 1, 'começaram': 1, 'comprado': 1, 'itens': 1, 'visualizados': 1, 'links': 1, 'clicados': 1, 'públicos': 1, 'privados': 1, 'acumulando': 1, 'lugares': 1, 'passado': 1, 'eram': 1, 'intencionadamente': 1, 'representavam': 1, 'medida': 1, 'intencional': 1, 'recentemente': 1, 'porém': 1, 'internet': 1, 'dispositivos': 1, 'eletrônicos': 1, 'onipresentes': 1, 'latente': 1, 'perder': 1, 'oculto': 1, 'levaram': 1, 'máximo': 1, 'geralmente': 1, 'premissa': 1, 'serão': 1, 'posteriormente': 1, 'primeira': 1, 'história': 1, 'setores': 1, 'coletando': 1, 'depois': 1, 'questionando': 1, 'redes': 1, 'nelas': 1, 'dessa': 1, 'nem': 1, 'ocorra': 1, 'usam': 1, 'proprietários': 1, 'ficam': 1, 'divididos': 1, 'vendido': 1, 'mantidos': 1, '\\u200b\\u200binternamente': 1, 'editores': 1, 'abre': 1, 'possibilidade': 1, 'outra': 1, 'pessoa': 1, 'descubra': 1, 'lucrativo': 1, 'mantêm': 1, 'mesmos': 1, 'guardandoos': 1, 'futuro': 1, 'supostamente': 1, 'terão': 1, 'suficiente': 1, 'delimitandose': 1, 'justificase': 1, 'conhecer': 1, 'utilizados': 1, 'única': 1, 'espaço': 1, 'duas': 1, 'comparação': 1, 'intangível': 1, 'ver': 1, 'front': 1, 'end': 1, 'chamativo': 1, 'contrário': 1, 'engenharia': 1, 'antecedência': 1, 'plano': 1, 'perfeitamente': 1, 'definido': 1, 'incerteza': 1, 'integrante': 1, 'dificultar': 1, 'decisões': 1, 'entendimento': 1, 'desafiador': 1, 'origens': 1, 'campo': 1, 'possui': 1, 'incluem': 1, 'inteligência': 1, 'artificial': 1, 'ferramenta': 1, 'arsenal': 1, 'desenvolver': 1, 'estudar': 1, 'inúmeras': 1, 'utilizadas': 1, 'permitem': 1, 'realizações': 1, 'projetar': 1, 'tomada': 1, 'decisão': 1, 'construir': 1, 'transformar': 1, 'etc': 1, 'intersecção': 1, 'subjacentes': 1, 'desempenho': 1, 'escala': 1, 'tradição': 1, 'exploratória': 1, 'teste': 1, 'significância': 1, 'visualização': 1, 'surgem': 1, 'dignos': 1, 'batalha': 1, 'avaliação': 1, 'foram': 1, 'conquistados': 1, 'dizem': 1, 'terceiro': 1, 'componente': 1, 'parecido': 1, 'assunto': 1, 'domínio': 1, 'seja': 1, 'tentar': 1, 'resolvêlo': 1, 'bom': 1, 'alternar': 1, 'começar': 1, 'contribuir': 1, 'pouco': 1, 'razões': 1, 'essa': 1, 'súbita': 1, 'explosão': 1, 'tecnológico': 1, 'registros': 1, 'sensores': 1, 'reunir': 1, 'perguntar': 1, 'escalas': 1, 'proporcionam': 1, 'vasto': 1, 'até': 1, 'necessário': 1, 'abordagens': 1, 'levado': 1, 'incríveis': 1, 'problemas': 1, 'visão': 1, 'computacional': 1, 'linguagem': 1, 'natural': 1, 'destaque': 1, 'google': 1, 'facebook': 1, 'demonstraram': 1, 'moderna': 1, 'histórias': 1, 'sucesso': 1, 'aplicando': 1, 'áreas': 1, 'diversas': 1, 'esportiva': 1, 'eleições': 1, 'serviram': 1, 'grande': 1, 'público': 1, 'conceito': 1, 'alguns': 1, 'descrevem': 1, 'certo': 1, 'limite': 1, 'terabyte': 1, 'renome': 1, 'identificaram': 1, 'exibem': 1, 'chavão': 1, 'maciços': 1, 'complicados': 1, 'tradicional': 1, 'relacionado': 1, 'nosql': 1, 'coisas': 1, 'independente': 1, 'digitais': 1, 'mídia': 1, 'vídeo': 1, 'expõe': 1, 'entrada': 1, 'saída': 1, 'parecem': 1, 'estar': 1, 'corretos': 1, 'já': 1, 'diz': 1, 'respeito': 1, 'existe': 1, 'parece': 1, 'melhor': 1, 'abordagem': 1, 'inovadora': 1, 'consiste': 1, 'processos': 1, 'valiosas': 1, 'baixo': 1, 'encaixam': 1, 'motivo': 1, 'sistemas': 1, 'banco': 1, 'favorece': 1, 'pesquisas': 1, 'seguintes': 1, 'ferramentas': 1, 'avançadas': 1, 'raspagem': 1, 'web': 1, 'analíticas': 1, 'inovadoras': 1, 'sobre': 1, 'sociedade': 1, 'humana': 1, 'política': 1, 'economia': 1, 'questões': 1, 'teorias': 1, 'inclui': 1, 'todas': 1, 'disciplinas': 1, 'recurso': 1, 'valioso': 1, 'formal': 1, 'fornecida': 1, 'pelo': 1, 'dama': 1, 'international': 1, 'recursos': 1, 'execução': 1, 'políticas': 1, 'práticas': 1, 'procedimentos': 1, 'gerenciam': 1, 'necessidades': 1, 'ciclo': 1, 'vida': 1, 'inicialmente': 1, 'contextualizados': 1, 'significado': 1, 'mudar': 1, 'dependendo': 1, 'percebidos': 1, 'objetivos': 1, 'factuais': 1, 'capturam': 1, 'fenômenos': 1, 'naturais': 1, 'univocamente': 1, 'iguais': 1, 'independentemente': 1, 'quem': 1, 'olha': 1, 'subjetivos': 1, 'refletem': 1, 'construções': 1, 'puramente': 1, 'ganham': 1, 'direito': 1, 'representatividade': 1, 'consenso': 1, 'abstrato': 1, 'essência': 1, 'ambos': 1, 'fornecer': 1, 'observadores': 1, 'devido': 1, 'habilidades': 1, 'outro': 1, 'destacar': 1, 'parâmetros': 1, 'algoritmo': 1, 'interpretabilidade': 1, 'outros': 1, 'ignorar': 1, 'momento': 1, 'comprometer': 1, 'completamente': 1, 'subsequentes': 1, 'devemos': 1, 'esquecer': 1, 'ampla': 1, 'gama': 1, 'preconceitos': 1, 'comportamentais': 1, 'objetividade': 1, 'afeta': 1, 'gerentes': 1, 'apofenia': 1, 'distintos': 1, 'falácia': 1, 'narrativa': 1, 'necessidade': 1, 'séries': 1, 'desconectados': 1, 'confirmação': 1, 'tendência': 1, 'confirmam': 1, 'hipóteses': 1, 'anteriores': 1, 'sua': 1, 'corolário': 1, 'qual': 1, 'busca': 1, 'acabará': 1, 'eventualmente': 1, 'descoberta': 1, 'seleção': 1, 'propensão': 1, 'dado': 1, 'possivelmente': 1, 'falar': 1, 'precisamos': 1, 'entendendo': 1, 'geramos': 1, 'praticamente': 1, 'faz': 1, 'gera': 1, 'coletam': 1, 'internas': 1, 'transações': 1, 'log': 1, 'emails': 1, 'vídeos': 1, 'entanto': 1, 'só': 1, 'forem': 1, 'perguntas': 1, 'corretas': 1, 'aqui': 1, 'entra': 1, 'quantitativa': 1, 'precisa': 1, 'possa': 1, 'respondida': 1, 'observacionais': 1, 'passivamente': 1, '\\u200b\\u200benvolvidas': 1, 'feedback': 1, 'livro': 1, 'varejista': 1, 'comportamento': 1, 'nenhuma': 1, 'variável': 1, 'envolve': 1, 'realização': 1, 'experimento': 1, 'determinadas': 1, '\\u200b\\u200bsão': 1, 'controladas': 1, 'enquanto': 1, 'você': 1, 'estuda': 1, 'comum': 1, 'círculos': 1, 'acadêmicos': 1, 'contextos': 1, 'clínicos': 1, 'perfeito': 1, 'farmacêutica': 1, 'testa': 1, 'montam': 1, 'controlam': 1, 'testam': 1, 'eficácia': 1, 'possíveis': 1, 'efeitos': 1, 'colaterais': 1, 'crítica': 1, 'confrontado': 1, 'csv': 1, 'excel': 1, 'html': 1, 'bruto': 1, 'imagens': 1, 'gravações': 1, 'som': 1, 'apis': 1, 'fornecendo': 1, 'javascript': 1, 'object': 1, 'notation': 1, 'json': 1, 'nesse': 1, 'considerações': 1, 'delas': 1, 'afetar': 1, 'estas': 1, 'bemsucedido': 1, 'chega': 1, 'fase': 1, 'transferência': 1, 'estejam': 1, 'disponíveis': 1, 'memória': 1, 'inevitavelmente': 1, 'certamente': 1, 'estarão': 1, 'inadequada': 1, 'experimentação': 1, 'complexos': 1, 'confusos': 1, 'errados': 1, 'ausentes': 1, 'devese': 1, 'incluir': 1, 'manutenção': 1, 'tanto': 1, 'físico': 1, 'quanto': 1, 'retenção': 1, 'dificuldades': 1, 'onerosa': 1, 'oportunidade': 1, 'dúvida': 1, '\\u200b\\u200bnão': 1, 'ortodoxos': 1, '\\u200b\\u200bde': 1, 'padrão': 1, 'desafiar': 1, 'sabedoria': 1, 'convencional': 1, 'comprovados': 1, 'validados': 1, 'requisito': 1, 'básico': 1, 'fim': 1, 'estratégias': 1, 'começam': 1, 'internos': 1, 'integrálos': 1, 'públicas': 1, 'vantajoso': 1, 'processar': 1, 'causa': 1, 'quantidade': 1, 'gerada': 1, 'diariamente': 1, 'ruído': 1, 'aumenta': 1, 'rapidamente': 1, 'sinal': 1, 'regra': 1, '8020': 1, 'pareto': 1, 'aplica': 1, '80': 1, 'poderiam': 1, 'explicados': 1, 'pelos': 1, '20': 1, 'propriedade': 1, 'conclusão': 1, 'realizar': 1, 'diversos': 1, 'influenciar': 1, 'gerados': 1, 'vir': 1, 'complexidade': 1, 'vale': 1, 'lembrar': 1, 'baixa': 1, 'obtidos': 1, 'constantes': 1, 'importantes': 1, 'modificados': 1, 'realizados': 1, 'inovações': 1, 'referências': 1, 'francesco': 1, 'an': 1, 'introduction': 1, 'everything': 1, 'you': 1, 'need': 1, 'know': 1, 'about': 1, 'ai': 1, 'shuheng': 1, 'in': 1, 'computational': 1, 'humanities': 1, 'brian': 1, 'think': 1, 'like': 1, 'scientist': 1, 'tackle': 1, 'process': 1, 'stepbystep': 1, 'shelter': 1, 'island': 1, 'manning': 1, 'stylianos': 1, 'decision': 1, 'maker’s': 1, 'handbook': 1, 'guide': 1, 'non': 1, 'tecnical': 1, 'executives': 1, 'managers': 1, 'founders': 1, 'london': 1, 'apress': 1, 'steven': 1, 's': 1, 'manual': 1})\n"
          ],
          "name": "stdout"
        }
      ]
    },
    {
      "cell_type": "markdown",
      "metadata": {
        "id": "8DVsUJ5VKrin"
      },
      "source": [
        "###Conclusão\n",
        "\n",
        "Segundo a lei de Zipf, a palavra mais frequente ocorre, aproximadamente, 2 vezes mais que a segunda palavra mais frequente, a qual ocorre, em torno de 2 vezes mais que a quarta palavra mais frequente. No texto utilizado, a palavra mais frequente ‘de’ aparece 212 vezes, a segunda palavra ‘dados’ aparece 138 vezes, e a quarta palavra mais frequente ‘e’ aparece 76 vezes. Ou seja, são valores próximos ao que a lei diz. \n",
        "\n",
        "Além dessas observações em relação a lei de Zipf, pode-se perceber que a maioria das palavras mais frequentes, com exceção de ‘dados’, é um artigo ou preposição, o que também é descrito na lei.\n",
        "\n",
        "Ainda assim, se desconsiderar os artigos e preposições, as palavras mais frequentes são: dados, ciência e data, o que comprova a teoria que as palavras mais frequentes referem-se ao tema principal do texto. \n"
      ]
    },
    {
      "cell_type": "markdown",
      "metadata": {
        "id": "PYRThN1w-YGM"
      },
      "source": [
        "Link para verificar o código: "
      ]
    }
  ]
}